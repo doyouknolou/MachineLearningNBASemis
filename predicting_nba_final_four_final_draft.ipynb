{
 "cells": [
  {
   "cell_type": "markdown",
   "metadata": {
    "id": "FKSZW6HhVQbp"
   },
   "source": [
    "# Predicting NBA Final Four (Semi-Final) Teams using ML Models\n",
    "##### by Louise Lalescu and Julia Van Heeringen"
   ]
  },
  {
   "cell_type": "markdown",
   "metadata": {
    "id": "Xgiad---ViIh"
   },
   "source": [
    "##Introduction\n",
    "\n",
    "> The NBA playoffs is an event that many sports fans look forward to watching every single year. In fact, some fans are so invested that they create their own brackets with the teams that they think are going to win each game. However, most people with no sort of statistical or machine learning background base their brackets off of previous performance and intuition. We find this process very interesting and wanted to create a model that could accurately predict the final four since these teams are considered the top teams in the country and have a great chance of winning the tournament. Developing a model could be very beneficial for team coaches, as it would help them understand what metrics they need to improve upon so that they can adjust their training strategy accordingly. This could change the future of sports and coaching that would aid teams in achieving success.\n",
    "\n",
    "\n",
    "> Currently, there are some personal projects of individuals who have also attempted to predict NBA performance available online as well as some articles on sports websites that contain the sports experts’ picks for their brackets. A great example of this is Sports Illustrated. They post articles with the opinions of various experts and how they think certain teams will perform. However, these articles lack hard statistical quantities and focus more on team circumstances, “I don’t know if Philly has the shared playoff experience yet, and I think Boston takes a step back with a new coach.” (SI Staff). This sort of analysis of individual players and coaches on a team seems to be the most common sort of analysis out there. It is evident that there is not much statistical knowledge out there yet, but we could be heading in that direction with the power of machine learning.\n",
    "\n",
    "\n",
    "> Moreover, the knowledge gap we are going to be addressing is the lack of accurate predictions of NBA brackets. We can narrow this gap by developing models that use previous game statistics and overall team performance in a season. This will provide us with new and more detailed insights that will hopefully aid us in creating an accurate model that can predict team performance.\n",
    "\n",
    "\n",
    "> The research question we seek to answer is: can we predict which teams make it to the NBA Final Four (semi-finals)? If so, which feature is most important in determining the final four teams? We hypothesize that we can predict the final four teams to a certain extent. It is likely that the accuracy of our model won’t be incredibly high because winning a game sometimes depends on luck and which players are on a team (neither of which will be accounted for in our model). Even if our model accuracy is not incredibly high, the model will still serve as a good indicator of which teams will make it far in the NBA tournament."
   ]
  },
  {
   "cell_type": "markdown",
   "metadata": {
    "id": "zQprEYO5WFWm"
   },
   "source": [
    "##Methods and Materials:\n",
    "\n",
    "\n",
    "> The data used in this project was collected from a website called NBAstuffer. This website provides a bunch of information on NBA analytics and unique statistics and has many tables with data available to download as excel files. We collected data from four different seasons: 2018-2019, 2019-2020, 2020-2021, and 2021-2022. Each of the rows in the excel files represents a specific player, along with their team name, age, and all of their performance statistics over the regular season. The excel files for all of these seasons can be downloaded by clicking on “NBA Stats”, then “Player Stats” (from the drop-down menu), then clicking on the desired season, clicking on “Regular Season”, and finally on the “Excel” button. We saved all of these downloads with the default file names and then read these into our Python program, removed the first row, renamed our columns with shorter names, added in a column with the appropriate season, and created a binary column which represents whether or not the team made it to the final four that season. Finally, we concatenated these four data frames into one that we could perform our analysis on.\n",
    "\n",
    "\n",
    "> Moving onto the data cleaning, we checked for NaN values in our data and found that we had a couple in different columns. However, most of the NaNs were from players who didn’t play much, so we decided to impute them with zeroes since this is an appropriate reflection of their performance. We then proceeded to visually explore the distribution of minutes played and ages of all of our players using histograms. Subsequently, we plotted a correlation plot of our features to determine which of them we could possibly remove when fitting our model since we had 27 of them. We were able to identify a few just by looking at the heatmap, but we decided to return to this chart after running our models.\n",
    "\n",
    "> Although we anticipate that the separation of players who played more than 10 minutes from all the players will cause any issues in our analysis, we decided to split up our data into all players and players who played more than 10 minutes, which we called \"best players\". This way, we can determine whether or not this distinction impacts the outcome of our models and whether or not we need to remove players who didn't play for the models to be more accurate. After this division of the data, all subsequent steps were performed on both data sets.\n",
    "\n",
    "> Since our goal is to predict which teams will advance to the final four, we grouped our data by team and season, which resulted in a data frame with rows for each season every team played, and aggregate statistics from the group by. We later returned to the group by aggregate functions to reduce collinearity and the number of features. However, we did initially explore this data with some histograms to determine whether or not the distribution of average ages and turn over rate differed for all players and best players.\n",
    "\n",
    "\n",
    "> To continue, the data was split into training data (70%) and testing data (30%). Of this testing data, 50% was used to create a development test so that we could test the accuracy of our data during the model tuning process while avoiding data leakage. At this point, we started fitting some models using our respective training data sets for our two player groups and selected a decision tree, a random forest with a maximum number of estimators of 15 and a max depth of 3, and a logistic regression with a maximum number of iterations of 1000, scaled using a standard scaler. To tune these models, we changed the maximum depth of the trees/forests, created another correlation plot of the features and started removing the more correlated features (which were created in the aggregate functions of our group by) until all further changes resulted in a decrease in accuracy. We also changed some of our average metrics to maximums/minimums in our data aggregation. Lastly, we also considered feature engineering, but we already had a large amount of features that were somewhat correlated, and decided against this idea because we believed it would not be beneficial.\n",
    "\n",
    "> All of the code (with their explanations) up until the splitting of the data is included in this section. The code for fitting the models can be found in the results section."
   ]
  },
  {
   "cell_type": "markdown",
   "metadata": {
    "id": "UpVIszKcWXiH"
   },
   "source": [
    "Import Statements:"
   ]
  },
  {
   "cell_type": "code",
   "execution_count": 1,
   "metadata": {
    "id": "_WEVmwXghrG-"
   },
   "outputs": [],
   "source": [
    "import matplotlib.pyplot as plt, numpy as np\n",
    "import seaborn as sns\n",
    "import pandas as pd\n",
    "from sklearn.model_selection import train_test_split\n",
    "from sklearn.tree import DecisionTreeClassifier\n",
    "from sklearn.ensemble import RandomForestClassifier\n",
    "from sklearn.linear_model import LogisticRegression\n",
    "from sklearn.pipeline import make_pipeline\n",
    "from sklearn.preprocessing import StandardScaler, MinMaxScaler\n",
    "from sklearn import tree"
   ]
  },
  {
   "cell_type": "markdown",
   "metadata": {
    "id": "RD3EVY-oWlet"
   },
   "source": [
    "Reading in the data and concatenating the data for all of the seasons together:"
   ]
  },
  {
   "cell_type": "code",
   "execution_count": 2,
   "metadata": {
    "colab": {
     "base_uri": "https://localhost:8080/",
     "height": 253
    },
    "id": "Kd-aObCWFPM6",
    "outputId": "ada2404b-6701-4ccd-8097-8415910a2140"
   },
   "outputs": [
    {
     "name": "stderr",
     "output_type": "stream",
     "text": [
      "<ipython-input-2-87f9e5baa6e6>:12: FutureWarning: The frame.append method is deprecated and will be removed from pandas in a future version. Use pandas.concat instead.\n",
      "  master_df = master_df.append(data)\n",
      "<ipython-input-2-87f9e5baa6e6>:12: FutureWarning: The frame.append method is deprecated and will be removed from pandas in a future version. Use pandas.concat instead.\n",
      "  master_df = master_df.append(data)\n",
      "<ipython-input-2-87f9e5baa6e6>:12: FutureWarning: The frame.append method is deprecated and will be removed from pandas in a future version. Use pandas.concat instead.\n",
      "  master_df = master_df.append(data)\n"
     ]
    },
    {
     "name": "stdout",
     "output_type": "stream",
     "text": [
      "(2555, 30)\n"
     ]
    },
    {
     "name": "stderr",
     "output_type": "stream",
     "text": [
      "<ipython-input-2-87f9e5baa6e6>:12: FutureWarning: The frame.append method is deprecated and will be removed from pandas in a future version. Use pandas.concat instead.\n",
      "  master_df = master_df.append(data)\n"
     ]
    },
    {
     "data": {
      "text/html": [
       "<div>\n",
       "<style scoped>\n",
       "    .dataframe tbody tr th:only-of-type {\n",
       "        vertical-align: middle;\n",
       "    }\n",
       "\n",
       "    .dataframe tbody tr th {\n",
       "        vertical-align: top;\n",
       "    }\n",
       "\n",
       "    .dataframe thead th {\n",
       "        text-align: right;\n",
       "    }\n",
       "</style>\n",
       "<table border=\"1\" class=\"dataframe\">\n",
       "  <thead>\n",
       "    <tr style=\"text-align: right;\">\n",
       "      <th></th>\n",
       "      <th>Player_name</th>\n",
       "      <th>team</th>\n",
       "      <th>pos</th>\n",
       "      <th>age</th>\n",
       "      <th>gp</th>\n",
       "      <th>mpg</th>\n",
       "      <th>min%</th>\n",
       "      <th>usg%</th>\n",
       "      <th>tor%</th>\n",
       "      <th>fta</th>\n",
       "      <th>...</th>\n",
       "      <th>apg</th>\n",
       "      <th>ast%</th>\n",
       "      <th>spg</th>\n",
       "      <th>bpg</th>\n",
       "      <th>topg</th>\n",
       "      <th>vi</th>\n",
       "      <th>ortg</th>\n",
       "      <th>drtg</th>\n",
       "      <th>year</th>\n",
       "      <th>Final_four</th>\n",
       "    </tr>\n",
       "  </thead>\n",
       "  <tbody>\n",
       "    <tr>\n",
       "      <th>0</th>\n",
       "      <td>Precious Achiuwa</td>\n",
       "      <td>Tor</td>\n",
       "      <td>F</td>\n",
       "      <td>22.56</td>\n",
       "      <td>73</td>\n",
       "      <td>23.6</td>\n",
       "      <td>49.2</td>\n",
       "      <td>18.5</td>\n",
       "      <td>11.3</td>\n",
       "      <td>131</td>\n",
       "      <td>...</td>\n",
       "      <td>1.1</td>\n",
       "      <td>6.9</td>\n",
       "      <td>0.51</td>\n",
       "      <td>0.56</td>\n",
       "      <td>1.15</td>\n",
       "      <td>6.8</td>\n",
       "      <td>105.4</td>\n",
       "      <td>104.0</td>\n",
       "      <td>2021-2022</td>\n",
       "      <td>0</td>\n",
       "    </tr>\n",
       "    <tr>\n",
       "      <th>1</th>\n",
       "      <td>Steven Adams</td>\n",
       "      <td>Mem</td>\n",
       "      <td>C</td>\n",
       "      <td>28.73</td>\n",
       "      <td>76</td>\n",
       "      <td>26.3</td>\n",
       "      <td>54.8</td>\n",
       "      <td>12.0</td>\n",
       "      <td>19.6</td>\n",
       "      <td>199</td>\n",
       "      <td>...</td>\n",
       "      <td>3.4</td>\n",
       "      <td>16.1</td>\n",
       "      <td>0.87</td>\n",
       "      <td>0.79</td>\n",
       "      <td>1.51</td>\n",
       "      <td>9.4</td>\n",
       "      <td>124.7</td>\n",
       "      <td>103.9</td>\n",
       "      <td>2021-2022</td>\n",
       "      <td>0</td>\n",
       "    </tr>\n",
       "    <tr>\n",
       "      <th>2</th>\n",
       "      <td>Bam Adebayo</td>\n",
       "      <td>Mia</td>\n",
       "      <td>C-F</td>\n",
       "      <td>24.73</td>\n",
       "      <td>56</td>\n",
       "      <td>32.6</td>\n",
       "      <td>67.9</td>\n",
       "      <td>25.0</td>\n",
       "      <td>14.4</td>\n",
       "      <td>340</td>\n",
       "      <td>...</td>\n",
       "      <td>3.4</td>\n",
       "      <td>17.5</td>\n",
       "      <td>1.43</td>\n",
       "      <td>0.79</td>\n",
       "      <td>2.64</td>\n",
       "      <td>10.7</td>\n",
       "      <td>117.2</td>\n",
       "      <td>98.2</td>\n",
       "      <td>2021-2022</td>\n",
       "      <td>1</td>\n",
       "    </tr>\n",
       "    <tr>\n",
       "      <th>3</th>\n",
       "      <td>Santi Aldama</td>\n",
       "      <td>Mem</td>\n",
       "      <td>F-C</td>\n",
       "      <td>21.25</td>\n",
       "      <td>32</td>\n",
       "      <td>11.2</td>\n",
       "      <td>23.4</td>\n",
       "      <td>18.5</td>\n",
       "      <td>9.9</td>\n",
       "      <td>32</td>\n",
       "      <td>...</td>\n",
       "      <td>0.7</td>\n",
       "      <td>7.7</td>\n",
       "      <td>0.19</td>\n",
       "      <td>0.31</td>\n",
       "      <td>0.50</td>\n",
       "      <td>7.1</td>\n",
       "      <td>101.1</td>\n",
       "      <td>103.9</td>\n",
       "      <td>2021-2022</td>\n",
       "      <td>0</td>\n",
       "    </tr>\n",
       "    <tr>\n",
       "      <th>4</th>\n",
       "      <td>LaMarcus Aldridge</td>\n",
       "      <td>Bro</td>\n",
       "      <td>C-F</td>\n",
       "      <td>36.73</td>\n",
       "      <td>47</td>\n",
       "      <td>22.3</td>\n",
       "      <td>46.5</td>\n",
       "      <td>22.4</td>\n",
       "      <td>8.0</td>\n",
       "      <td>102</td>\n",
       "      <td>...</td>\n",
       "      <td>0.9</td>\n",
       "      <td>6.3</td>\n",
       "      <td>0.30</td>\n",
       "      <td>1.00</td>\n",
       "      <td>0.94</td>\n",
       "      <td>7.2</td>\n",
       "      <td>119.6</td>\n",
       "      <td>108.8</td>\n",
       "      <td>2021-2022</td>\n",
       "      <td>0</td>\n",
       "    </tr>\n",
       "  </tbody>\n",
       "</table>\n",
       "<p>5 rows × 30 columns</p>\n",
       "</div>"
      ],
      "text/plain": [
       "         Player_name team  pos    age  gp   mpg  min%  usg%  tor%  fta  ...  \\\n",
       "0   Precious Achiuwa  Tor    F  22.56  73  23.6  49.2  18.5  11.3  131  ...   \n",
       "1       Steven Adams  Mem    C  28.73  76  26.3  54.8  12.0  19.6  199  ...   \n",
       "2        Bam Adebayo  Mia  C-F  24.73  56  32.6  67.9  25.0  14.4  340  ...   \n",
       "3       Santi Aldama  Mem  F-C  21.25  32  11.2  23.4  18.5   9.9   32  ...   \n",
       "4  LaMarcus Aldridge  Bro  C-F  36.73  47  22.3  46.5  22.4   8.0  102  ...   \n",
       "\n",
       "   apg  ast%   spg   bpg  topg    vi   ortg   drtg       year  Final_four  \n",
       "0  1.1   6.9  0.51  0.56  1.15   6.8  105.4  104.0  2021-2022           0  \n",
       "1  3.4  16.1  0.87  0.79  1.51   9.4  124.7  103.9  2021-2022           0  \n",
       "2  3.4  17.5  1.43  0.79  2.64  10.7  117.2   98.2  2021-2022           1  \n",
       "3  0.7   7.7  0.19  0.31  0.50   7.1  101.1  103.9  2021-2022           0  \n",
       "4  0.9   6.3  0.30  1.00  0.94   7.2  119.6  108.8  2021-2022           0  \n",
       "\n",
       "[5 rows x 30 columns]"
      ]
     },
     "execution_count": 2,
     "metadata": {},
     "output_type": "execute_result"
    }
   ],
   "source": [
    "master_df = pd.DataFrame()\n",
    "fnames = ['NBA Stats 202122 All Player Statistics in one Page.xlsx', '2020-2021 NBA Stats  Player Box Score  Advanced Metrics.xlsx', '2019-2020 NBA Player Stats.xlsx', '2018-2019 NBA Player Stats.xlsx']\n",
    "seasons = ['2021-2022', '2020-2021', '2019-2020', '2018-2019']\n",
    "final_teams = [['Mia', 'Bos', 'Dal', 'Gol'], ['Lac', 'Pho', 'Atl', 'Mil'], ['Lal', 'Den', 'Mia', 'Bos'], ['Gol', 'Por', 'Tor', 'Mil']]\n",
    "i=0\n",
    "for fname in fnames:\n",
    "  data = pd.read_excel(fname, index_col=0, skiprows=1)\n",
    "  data.columns = ['Player_name', 'team', 'pos', 'age', 'gp', 'mpg', 'min%', 'usg%', 'tor%', 'fta', 'ft%', '2pa', '2p%', '3pa', '3p%', 'efg%', 'ts%', 'ppg', 'rpg', 'trb%', 'apg', 'ast%', 'spg', 'bpg', 'topg', 'vi', 'ortg', 'drtg']\n",
    "  data['year'] = seasons[i]\n",
    "  data['Final_four'] = data['team'].isin(final_teams[i]).astype(int)\n",
    "  data = data.reset_index(drop=True)\n",
    "  master_df = master_df.append(data)\n",
    "  i+=1\n",
    "print(master_df.shape)\n",
    "master_df.head()"
   ]
  },
  {
   "cell_type": "markdown",
   "metadata": {
    "id": "zOoCgqj0cJXP"
   },
   "source": [
    "Checking for NaN Values:"
   ]
  },
  {
   "cell_type": "code",
   "execution_count": 3,
   "metadata": {
    "colab": {
     "base_uri": "https://localhost:8080/"
    },
    "id": "5hAqYNhTbxbe",
    "outputId": "ded7a9d6-fc53-43a0-95d5-bca43864f478"
   },
   "outputs": [
    {
     "data": {
      "text/plain": [
       "Player_name      0\n",
       "team             0\n",
       "pos              0\n",
       "age              0\n",
       "gp               0\n",
       "mpg              0\n",
       "min%             0\n",
       "usg%             0\n",
       "tor%            22\n",
       "fta              0\n",
       "ft%              0\n",
       "2pa              0\n",
       "2p%              0\n",
       "3pa              0\n",
       "3p%              0\n",
       "efg%            25\n",
       "ts%             23\n",
       "ppg              0\n",
       "rpg              0\n",
       "trb%             0\n",
       "apg              0\n",
       "ast%             0\n",
       "spg              0\n",
       "bpg              0\n",
       "topg             0\n",
       "vi               0\n",
       "ortg           132\n",
       "drtg           129\n",
       "year             0\n",
       "Final_four       0\n",
       "dtype: int64"
      ]
     },
     "execution_count": 3,
     "metadata": {},
     "output_type": "execute_result"
    }
   ],
   "source": [
    "master_df.isna().sum()"
   ]
  },
  {
   "cell_type": "markdown",
   "metadata": {
    "id": "1H_a-qcBcL5V"
   },
   "source": [
    "Imputing NaN values with zeroes and filtering the data so that best players includes only players who played more than 10 minutes."
   ]
  },
  {
   "cell_type": "code",
   "execution_count": 4,
   "metadata": {
    "colab": {
     "base_uri": "https://localhost:8080/"
    },
    "id": "C7KfSUkzbzmE",
    "outputId": "fdfc9486-4ac1-445b-c7f4-06ed8200c053"
   },
   "outputs": [
    {
     "data": {
      "text/plain": [
       "Player_name    0\n",
       "team           0\n",
       "pos            0\n",
       "age            0\n",
       "gp             0\n",
       "mpg            0\n",
       "min%           0\n",
       "usg%           0\n",
       "tor%           0\n",
       "fta            0\n",
       "ft%            0\n",
       "2pa            0\n",
       "2p%            0\n",
       "3pa            0\n",
       "3p%            0\n",
       "efg%           0\n",
       "ts%            0\n",
       "ppg            0\n",
       "rpg            0\n",
       "trb%           0\n",
       "apg            0\n",
       "ast%           0\n",
       "spg            0\n",
       "bpg            0\n",
       "topg           0\n",
       "vi             0\n",
       "ortg           0\n",
       "drtg           0\n",
       "year           0\n",
       "Final_four     0\n",
       "dtype: int64"
      ]
     },
     "execution_count": 4,
     "metadata": {},
     "output_type": "execute_result"
    }
   ],
   "source": [
    "master_df=master_df.fillna(0)\n",
    "master_df.isna().sum()"
   ]
  },
  {
   "cell_type": "markdown",
   "metadata": {
    "id": "jtAUouJ5dWPe"
   },
   "source": [
    "As part of our analysis, we wanted to investigate the distribution of minutes played by each player. After plotting this on a histogram, we found that minutes played is approximately normally distributed, which is a good sign since that means that our sample is a good representation of NBA players and means that the data contains all player data, and not just the players who played the most. We were also interested in the distribution of player ages, so we created another histogram with player ages to find that the majority of the players are in their mid-twenties. This was expected since athletes tend to retire at younger ages because of the physical impact that their sport has on their bodies. \n",
    "\n"
   ]
  },
  {
   "cell_type": "markdown",
   "metadata": {
    "id": "ItFtiXHSIM5n"
   },
   "source": [
    "From this plot, we see that the distribution of minutes played appears to be relatively normally distributed."
   ]
  },
  {
   "cell_type": "code",
   "execution_count": 5,
   "metadata": {
    "colab": {
     "base_uri": "https://localhost:8080/",
     "height": 281
    },
    "id": "hIi7ZSs4H78_",
    "outputId": "8c3d4c6f-6a12-477b-99a1-9c87968ac4aa"
   },
   "outputs": [
    {
     "data": {
      "image/png": "[encoded data removed]",
      "text/plain": [
       "<Figure size 432x288 with 1 Axes>"
      ]
     },
     "metadata": {
      "needs_background": "light"
     },
     "output_type": "display_data"
    }
   ],
   "source": [
    "plt.hist(master_df['mpg'], bins=10, edgecolor='red')\n",
    "plt.title(\"Distribution of Minutes Played\")\n",
    "plt.show()"
   ]
  },
  {
   "cell_type": "markdown",
   "metadata": {
    "id": "mtcjVL7jId92"
   },
   "source": [
    "From this plot, we determine that most of our players are between 20 and 30 years old."
   ]
  },
  {
   "cell_type": "code",
   "execution_count": 6,
   "metadata": {
    "colab": {
     "base_uri": "https://localhost:8080/",
     "height": 281
    },
    "id": "eITg9sTDIT9m",
    "outputId": "b1979da2-4431-4641-ffd7-9a49e211c2ee"
   },
   "outputs": [
    {
     "data": {
      "image/png": "[encoded data removed]",
      "text/plain": [
       "<Figure size 432x288 with 1 Axes>"
      ]
     },
     "metadata": {
      "needs_background": "light"
     },
     "output_type": "display_data"
    }
   ],
   "source": [
    "plt.hist(master_df['age'], edgecolor='red')\n",
    "plt.title(\"Distribution of Player Ages\")\n",
    "plt.show() "
   ]
  },
  {
   "cell_type": "markdown",
   "metadata": {
    "id": "uHHyhi4jFkot"
   },
   "source": [
    "Below is the correlation plot of our original predictors. It is clear that we have some collinearity concerns with some lighter orange blocks (indicating higher correlation) for points per game (ppg) and minutes per game (mpg). We will go through a process of removing these features when tuning our model."
   ]
  },
  {
   "cell_type": "code",
   "execution_count": 7,
   "metadata": {
    "colab": {
     "base_uri": "https://localhost:8080/",
     "height": 320
    },
    "id": "KPCzX2KZFR3e",
    "outputId": "e86b5f82-7859-4d80-b8b0-15e9094d5b13"
   },
   "outputs": [
    {
     "data": {
      "image/png": "[encoded data removed]",
      "text/plain": [
       "<Figure size 432x288 with 2 Axes>"
      ]
     },
     "metadata": {
      "needs_background": "light"
     },
     "output_type": "display_data"
    }
   ],
   "source": [
    "correlation_features = master_df.drop(['Player_name', 'team'], axis=1)\n",
    "corr = correlation_features.corr()\n",
    "heatmap = sns.heatmap(corr, xticklabels=True, yticklabels=True)\n",
    "plt.title(\"Predictor Correlation Plot\")\n",
    "plt.show()"
   ]
  },
  {
   "cell_type": "markdown",
   "metadata": {
    "id": "-5eFqMk35Rrw"
   },
   "source": [
    "Splitting up our data into all players and best players:"
   ]
  },
  {
   "cell_type": "code",
   "execution_count": 8,
   "metadata": {
    "colab": {
     "base_uri": "https://localhost:8080/"
    },
    "id": "Z16miMUo5VJ3",
    "outputId": "0db2f6b3-6246-4bcc-b10f-9e4c20f0cd97"
   },
   "outputs": [
    {
     "name": "stdout",
     "output_type": "stream",
     "text": [
      "(2555, 30) (2376, 30)\n"
     ]
    }
   ],
   "source": [
    "all_players = master_df\n",
    "best_players = all_players[all_players['min%']>10]\n",
    "print(all_players.shape, best_players.shape)"
   ]
  },
  {
   "cell_type": "markdown",
   "metadata": {
    "id": "f7KJUn523aD4"
   },
   "source": [
    "Performing a groupby by team and season for the data with all the players and the data with only the players that played more than 10 minutes (\"best players\")"
   ]
  },
  {
   "cell_type": "code",
   "execution_count": 9,
   "metadata": {
    "colab": {
     "base_uri": "https://localhost:8080/",
     "height": 357
    },
    "id": "BxJNnzFimJ3e",
    "outputId": "a6adcb31-2ffc-45b2-b91d-2bc15d178da3"
   },
   "outputs": [
    {
     "data": {
      "text/html": [
       "<div>\n",
       "<style scoped>\n",
       "    .dataframe tbody tr th:only-of-type {\n",
       "        vertical-align: middle;\n",
       "    }\n",
       "\n",
       "    .dataframe tbody tr th {\n",
       "        vertical-align: top;\n",
       "    }\n",
       "\n",
       "    .dataframe thead th {\n",
       "        text-align: right;\n",
       "    }\n",
       "</style>\n",
       "<table border=\"1\" class=\"dataframe\">\n",
       "  <thead>\n",
       "    <tr style=\"text-align: right;\">\n",
       "      <th></th>\n",
       "      <th>team</th>\n",
       "      <th>year</th>\n",
       "      <th>avg_age</th>\n",
       "      <th>avg_turnover_rate</th>\n",
       "      <th>avg_fta</th>\n",
       "      <th>avg_ft_perc</th>\n",
       "      <th>avg_2pa</th>\n",
       "      <th>avg_2p_perc</th>\n",
       "      <th>avg_3pa</th>\n",
       "      <th>avg_3p_perc</th>\n",
       "      <th>avg_efg_perc</th>\n",
       "      <th>avg_ppg</th>\n",
       "      <th>max_rpg</th>\n",
       "      <th>avg_trb_perc</th>\n",
       "      <th>max_apg</th>\n",
       "      <th>max_spg</th>\n",
       "      <th>avg_bpg</th>\n",
       "      <th>min_topg</th>\n",
       "      <th>final_four</th>\n",
       "    </tr>\n",
       "  </thead>\n",
       "  <tbody>\n",
       "    <tr>\n",
       "      <th>0</th>\n",
       "      <td>Atl</td>\n",
       "      <td>2018-2019</td>\n",
       "      <td>25.753182</td>\n",
       "      <td>11.631818</td>\n",
       "      <td>87.181818</td>\n",
       "      <td>0.619455</td>\n",
       "      <td>204.181818</td>\n",
       "      <td>0.456273</td>\n",
       "      <td>137.954545</td>\n",
       "      <td>0.331091</td>\n",
       "      <td>0.542818</td>\n",
       "      <td>7.450000</td>\n",
       "      <td>9.8</td>\n",
       "      <td>10.877273</td>\n",
       "      <td>8.1</td>\n",
       "      <td>1.33</td>\n",
       "      <td>0.341818</td>\n",
       "      <td>0.00</td>\n",
       "      <td>0</td>\n",
       "    </tr>\n",
       "    <tr>\n",
       "      <th>1</th>\n",
       "      <td>Atl</td>\n",
       "      <td>2019-2020</td>\n",
       "      <td>26.711429</td>\n",
       "      <td>13.004762</td>\n",
       "      <td>74.571429</td>\n",
       "      <td>0.689762</td>\n",
       "      <td>173.904762</td>\n",
       "      <td>0.461238</td>\n",
       "      <td>115.047619</td>\n",
       "      <td>0.259667</td>\n",
       "      <td>0.460095</td>\n",
       "      <td>8.185714</td>\n",
       "      <td>10.1</td>\n",
       "      <td>9.623810</td>\n",
       "      <td>9.3</td>\n",
       "      <td>1.31</td>\n",
       "      <td>0.440476</td>\n",
       "      <td>0.00</td>\n",
       "      <td>0</td>\n",
       "    </tr>\n",
       "    <tr>\n",
       "      <th>2</th>\n",
       "      <td>Atl</td>\n",
       "      <td>2020-2021</td>\n",
       "      <td>26.416111</td>\n",
       "      <td>12.933333</td>\n",
       "      <td>96.944444</td>\n",
       "      <td>0.783833</td>\n",
       "      <td>215.500000</td>\n",
       "      <td>0.472056</td>\n",
       "      <td>133.444444</td>\n",
       "      <td>0.282889</td>\n",
       "      <td>0.496889</td>\n",
       "      <td>9.411111</td>\n",
       "      <td>14.3</td>\n",
       "      <td>9.983333</td>\n",
       "      <td>9.4</td>\n",
       "      <td>1.27</td>\n",
       "      <td>0.388333</td>\n",
       "      <td>0.27</td>\n",
       "      <td>1</td>\n",
       "    </tr>\n",
       "    <tr>\n",
       "      <th>3</th>\n",
       "      <td>Atl</td>\n",
       "      <td>2021-2022</td>\n",
       "      <td>26.000417</td>\n",
       "      <td>9.962500</td>\n",
       "      <td>76.208333</td>\n",
       "      <td>0.688375</td>\n",
       "      <td>184.125000</td>\n",
       "      <td>0.484417</td>\n",
       "      <td>117.583333</td>\n",
       "      <td>0.298625</td>\n",
       "      <td>0.501542</td>\n",
       "      <td>7.991667</td>\n",
       "      <td>11.9</td>\n",
       "      <td>9.816667</td>\n",
       "      <td>9.7</td>\n",
       "      <td>1.33</td>\n",
       "      <td>0.290000</td>\n",
       "      <td>0.00</td>\n",
       "      <td>0</td>\n",
       "    </tr>\n",
       "    <tr>\n",
       "      <th>4</th>\n",
       "      <td>Bos</td>\n",
       "      <td>2018-2019</td>\n",
       "      <td>26.311765</td>\n",
       "      <td>9.835294</td>\n",
       "      <td>94.000000</td>\n",
       "      <td>0.695588</td>\n",
       "      <td>270.176471</td>\n",
       "      <td>0.547176</td>\n",
       "      <td>166.411765</td>\n",
       "      <td>0.313588</td>\n",
       "      <td>0.546353</td>\n",
       "      <td>9.176471</td>\n",
       "      <td>6.7</td>\n",
       "      <td>11.894118</td>\n",
       "      <td>6.9</td>\n",
       "      <td>1.79</td>\n",
       "      <td>0.415294</td>\n",
       "      <td>0.00</td>\n",
       "      <td>0</td>\n",
       "    </tr>\n",
       "  </tbody>\n",
       "</table>\n",
       "</div>"
      ],
      "text/plain": [
       "  team       year    avg_age  avg_turnover_rate    avg_fta  avg_ft_perc  \\\n",
       "0  Atl  2018-2019  25.753182          11.631818  87.181818     0.619455   \n",
       "1  Atl  2019-2020  26.711429          13.004762  74.571429     0.689762   \n",
       "2  Atl  2020-2021  26.416111          12.933333  96.944444     0.783833   \n",
       "3  Atl  2021-2022  26.000417           9.962500  76.208333     0.688375   \n",
       "4  Bos  2018-2019  26.311765           9.835294  94.000000     0.695588   \n",
       "\n",
       "      avg_2pa  avg_2p_perc     avg_3pa  avg_3p_perc  avg_efg_perc   avg_ppg  \\\n",
       "0  204.181818     0.456273  137.954545     0.331091      0.542818  7.450000   \n",
       "1  173.904762     0.461238  115.047619     0.259667      0.460095  8.185714   \n",
       "2  215.500000     0.472056  133.444444     0.282889      0.496889  9.411111   \n",
       "3  184.125000     0.484417  117.583333     0.298625      0.501542  7.991667   \n",
       "4  270.176471     0.547176  166.411765     0.313588      0.546353  9.176471   \n",
       "\n",
       "   max_rpg  avg_trb_perc  max_apg  max_spg   avg_bpg  min_topg  final_four  \n",
       "0      9.8     10.877273      8.1     1.33  0.341818      0.00           0  \n",
       "1     10.1      9.623810      9.3     1.31  0.440476      0.00           0  \n",
       "2     14.3      9.983333      9.4     1.27  0.388333      0.27           1  \n",
       "3     11.9      9.816667      9.7     1.33  0.290000      0.00           0  \n",
       "4      6.7     11.894118      6.9     1.79  0.415294      0.00           0  "
      ]
     },
     "execution_count": 9,
     "metadata": {},
     "output_type": "execute_result"
    }
   ],
   "source": [
    "all_players_df = all_players.groupby(['team','year']).agg(avg_age=('age', 'mean'), avg_turnover_rate=('tor%', 'mean'), avg_fta=('fta', 'mean'), avg_ft_perc=('ft%', 'mean'), avg_2pa=('2pa', 'mean'), avg_2p_perc=('2p%', 'mean'), avg_3pa=('3pa', 'mean'), avg_3p_perc=('3p%', 'mean'), avg_efg_perc=('efg%', 'mean'), avg_ppg=('ppg', 'mean'), max_rpg=('rpg','max'), avg_trb_perc=('trb%', 'mean'), max_apg=('apg', 'max'), max_spg=('spg', 'max'), avg_bpg=('bpg', 'mean'), min_topg=('topg', 'min'), final_four=('Final_four', 'max'))\n",
    "best_players_df = best_players.groupby(['team','year']).agg(avg_age=('age', 'mean'), avg_turnover_rate=('tor%', 'mean'), avg_fta=('fta', 'mean'), avg_ft_perc=('ft%', 'mean'), avg_2pa=('2pa', 'mean'), avg_2p_perc=('2p%', 'mean'), avg_3pa=('3pa', 'mean'), avg_3p_perc=('3p%', 'mean'),avg_efg_perc=('efg%', 'mean'), avg_ppg=('ppg', 'mean'), max_rpg=('rpg','max'), avg_trb_perc=('trb%', 'mean'), max_apg=('apg', 'max'), max_spg=('spg', 'max'), avg_bpg=('bpg', 'mean'), min_topg=('topg', 'min'), final_four=('Final_four', 'max'))\n",
    "all_players_df = all_players_df.reset_index()\n",
    "best_players_df = best_players_df.reset_index()\n",
    "all_players_df.head()"
   ]
  },
  {
   "cell_type": "markdown",
   "metadata": {
    "id": "EnPXyyOmGN2T"
   },
   "source": [
    "Bar graph of the average age of each team from the all players data. It seems that there is not much of a difference in average age of players across all teams."
   ]
  },
  {
   "cell_type": "code",
   "execution_count": 10,
   "metadata": {
    "colab": {
     "base_uri": "https://localhost:8080/",
     "height": 296
    },
    "id": "5Q2L484QJxBG",
    "outputId": "e3041bec-e8c6-4583-ccb7-56d42bda1edf"
   },
   "outputs": [
    {
     "data": {
      "image/png": "[encoded data removed]",
      "text/plain": [
       "<Figure size 432x288 with 1 Axes>"
      ]
     },
     "metadata": {
      "needs_background": "light"
     },
     "output_type": "display_data"
    }
   ],
   "source": [
    "plt.bar(all_players_df['team'], all_players_df['avg_age'], edgecolor='red')\n",
    "plt.title(\"Avg age of each team\")\n",
    "plt.xticks(rotation = 90)\n",
    "plt.show() "
   ]
  },
  {
   "cell_type": "markdown",
   "metadata": {
    "id": "4cSWXZskGjto"
   },
   "source": [
    "Bar graph of the average age of each team from the best players data. It seems that there is not much of a difference in average age of players across all teams and also not much of difference between all players and best players as the graphs are nearly identical."
   ]
  },
  {
   "cell_type": "code",
   "execution_count": 11,
   "metadata": {
    "colab": {
     "base_uri": "https://localhost:8080/",
     "height": 296
    },
    "id": "tKwESB6FL-rz",
    "outputId": "e0418781-9a11-4d0b-f750-567443912d7b"
   },
   "outputs": [
    {
     "data": {
      "image/png": "[encoded data removed]",
      "text/plain": [
       "<Figure size 432x288 with 1 Axes>"
      ]
     },
     "metadata": {
      "needs_background": "light"
     },
     "output_type": "display_data"
    }
   ],
   "source": [
    "plt.bar(best_players_df['team'], best_players_df['avg_age'], edgecolor='red')\n",
    "plt.title(\"Avg age of each team\")\n",
    "plt.xticks(rotation = 90)\n",
    "plt.show() "
   ]
  },
  {
   "cell_type": "markdown",
   "metadata": {
    "id": "cfjW2qXxGwKt"
   },
   "source": [
    "Bar graph of the average turn over rate of each team from the all players data. It is evident that teams such as the Minnesota Timberwolves (Min) and New Orleans Pelicans (Nor) have much higher turn over rates than other teams."
   ]
  },
  {
   "cell_type": "code",
   "execution_count": 12,
   "metadata": {
    "colab": {
     "base_uri": "https://localhost:8080/",
     "height": 296
    },
    "id": "OBVrPv_jMbgf",
    "outputId": "68999414-c524-451d-db5b-8d329359863e"
   },
   "outputs": [
    {
     "data": {
      "image/png": "[encoded data removed]",
      "text/plain": [
       "<Figure size 432x288 with 1 Axes>"
      ]
     },
     "metadata": {
      "needs_background": "light"
     },
     "output_type": "display_data"
    }
   ],
   "source": [
    "plt.bar(all_players_df['team'].sort_values(), all_players_df['avg_turnover_rate'], edgecolor='red')\n",
    "plt.title(\"Avg turn over rate of each team\")\n",
    "plt.xticks(rotation = 90)\n",
    "plt.show() "
   ]
  },
  {
   "cell_type": "markdown",
   "metadata": {
    "id": "EQ5kglK1H4RY"
   },
   "source": [
    "Bar graph of the average turn over rate of each team from the best players data. While some of the rates have changed, there is not a significant difference between this plot and the one prior for all the players."
   ]
  },
  {
   "cell_type": "code",
   "execution_count": 13,
   "metadata": {
    "colab": {
     "base_uri": "https://localhost:8080/",
     "height": 296
    },
    "id": "PP3C5WuxMSeN",
    "outputId": "c482cf64-93a0-4af3-9921-bef42bbe463c"
   },
   "outputs": [
    {
     "data": {
      "image/png": "[encoded data removed]",
      "text/plain": [
       "<Figure size 432x288 with 1 Axes>"
      ]
     },
     "metadata": {
      "needs_background": "light"
     },
     "output_type": "display_data"
    }
   ],
   "source": [
    "plt.bar(best_players_df['team'], best_players_df['avg_turnover_rate'], edgecolor='red')\n",
    "plt.title(\"Avg turn over rate of each team\")\n",
    "plt.xticks(rotation = 90)\n",
    "plt.show() "
   ]
  },
  {
   "cell_type": "markdown",
   "metadata": {
    "id": "cUpuEC0uNgaU"
   },
   "source": [
    "Splitting our data into 70% training and 30% testing. Of the testing data, 50% will be used as a development set to test the accuracy of our model while avoiding data leakage. This means, of our total data, 70% is used for training, 15% is used for testing, and 15% is used for development."
   ]
  },
  {
   "cell_type": "code",
   "execution_count": 14,
   "metadata": {
    "id": "62EKoOP3eRH6"
   },
   "outputs": [],
   "source": [
    "random_seed = 9\n",
    "target = all_players_df.pop('final_four')\n",
    "x = all_players_df.drop(['team', 'year'], axis=1)\n",
    "y = target\n",
    "x_train, x_test, y_train, y_test = train_test_split(x,y, test_size=0.3, shuffle=True, random_state = random_seed) \n",
    "x_dev, x_test, y_dev, y_test = train_test_split(x_test,y_test, test_size=0.5, shuffle=True, random_state = random_seed) #creating development set"
   ]
  },
  {
   "cell_type": "code",
   "execution_count": 15,
   "metadata": {
    "id": "N9JnLgm2JsxD"
   },
   "outputs": [],
   "source": [
    "random_seed = 9\n",
    "target_best = best_players_df.pop('final_four')\n",
    "x_best = best_players_df.drop(['team', 'year'], axis=1)\n",
    "y_best = target_best\n",
    "x_train_best, x_test_best, y_train_best, y_test_best = train_test_split(x_best,y_best, test_size=0.3, shuffle=True, random_state = random_seed) \n",
    "x_dev_best, x_test_best, y_dev_best, y_test_best = train_test_split(x_test_best,y_test_best, test_size=0.5, shuffle=True, random_state = random_seed) #creating development set"
   ]
  },
  {
   "cell_type": "markdown",
   "metadata": {
    "id": "NmWtyrNCfCLW"
   },
   "source": [
    "##Results:"
   ]
  },
  {
   "cell_type": "markdown",
   "metadata": {
    "id": "DJDES16469MZ"
   },
   "source": [
    "\n",
    "\n",
    "> In summary, we fit 3 different models for each of our two data sets. The first was a decision tree, which resulted in an accuracy of 77.778% on the development set for all players and 44.444% accuracy for best players. Next, we fit a random forest with 15 estimators and a maximum depth of 3 to avoid overfitting, which resulted in an accuracy of 77.778% for both all players and best players. Finally, we fit a logistic regression model, scaled using a standard scaler, resulting in 55.555% accuracy for all players and 61.111% accuracy for best players. \n",
    "\n",
    "> The heatmap shown after the code for the fitting of the model shows the heatmap we consistently kept re-creating each time after we tuned our model to see which features we could eliminate or adjust to reduce collinearity and hopefully improve model accuracy. It is clear that the features we are left with in our final model have very low correlation, indicated by the dark purple colors on the graph that represent low correlation. If you compare this heatmap to the one created for the original data frame, it is evident that there is a major decrease in correlations, as well as the number of features.\n",
    "\n",
    "\n",
    "\n",
    "> Following the tuning of the model, we were ready to fit the models on the testing data, rather than the development set. We decided to only run the decision tree and the random forest models since they had accuracies that were significantly higher than the logistic regression. We also concluded that the difference between all players and best players was not significant enough to run the models twice, so proceeded to run the models on the test set with all the players. Both the decision tree and random forest resulted in an accuracy of 88.888%."
   ]
  },
  {
   "cell_type": "markdown",
   "metadata": {
    "id": "lS-E2owffr1q"
   },
   "source": [
    "Fitting a decision tree model for all players"
   ]
  },
  {
   "cell_type": "code",
   "execution_count": 16,
   "metadata": {
    "colab": {
     "base_uri": "https://localhost:8080/"
    },
    "id": "nTDUyLbGftin",
    "outputId": "3e30ee67-328a-4c92-e54d-7b63adfa63dc"
   },
   "outputs": [
    {
     "name": "stdout",
     "output_type": "stream",
     "text": [
      "0.7777777777777778\n"
     ]
    }
   ],
   "source": [
    "clf = DecisionTreeClassifier(random_state=1)\n",
    "fitted = clf.fit(x_train, y_train)\n",
    "print(fitted.score(x_dev, y_dev.astype(int)))"
   ]
  },
  {
   "cell_type": "markdown",
   "metadata": {
    "id": "OkXfqgK-8-km"
   },
   "source": [
    "Fitting a decision tree model for our \"best\" players"
   ]
  },
  {
   "cell_type": "code",
   "execution_count": 17,
   "metadata": {
    "colab": {
     "base_uri": "https://localhost:8080/"
    },
    "id": "Yfg2oLNcJ-ER",
    "outputId": "b077624e-e778-4a6d-a91d-0b93c2d98d07"
   },
   "outputs": [
    {
     "name": "stdout",
     "output_type": "stream",
     "text": [
      "0.4444444444444444\n"
     ]
    }
   ],
   "source": [
    "clf_best = DecisionTreeClassifier(random_state=1)\n",
    "fitted_best = clf_best.fit(x_train_best, y_train_best)\n",
    "print(fitted_best.score(x_dev_best, y_dev_best.astype(int)))"
   ]
  },
  {
   "cell_type": "markdown",
   "metadata": {
    "id": "IQjCLWxBnGjC"
   },
   "source": [
    "Fitting a random forest model for all players"
   ]
  },
  {
   "cell_type": "code",
   "execution_count": 18,
   "metadata": {
    "colab": {
     "base_uri": "https://localhost:8080/"
    },
    "id": "1VXx6XgVo5pC",
    "outputId": "5fcefffd-e672-4e52-cd03-e56447ac0433"
   },
   "outputs": [
    {
     "name": "stdout",
     "output_type": "stream",
     "text": [
      "0.7777777777777778\n"
     ]
    }
   ],
   "source": [
    "rf_cls = RandomForestClassifier(n_estimators = 15, max_depth = 3, random_state=1)\n",
    "rf_fitted = rf_cls.fit(x_train, y_train)\n",
    "print(rf_fitted.score(x_dev, y_dev.astype(int)))"
   ]
  },
  {
   "cell_type": "markdown",
   "metadata": {
    "id": "MJ9ve4V-9TSc"
   },
   "source": [
    "Fitting a random forest model for our \"best\" players"
   ]
  },
  {
   "cell_type": "code",
   "execution_count": 19,
   "metadata": {
    "colab": {
     "base_uri": "https://localhost:8080/"
    },
    "id": "dpjaJH-xKFGm",
    "outputId": "928bc252-4e5c-4bdd-aad9-923e660fea14"
   },
   "outputs": [
    {
     "name": "stdout",
     "output_type": "stream",
     "text": [
      "0.7777777777777778\n"
     ]
    }
   ],
   "source": [
    "rf_cls_best = RandomForestClassifier(n_estimators = 15, max_depth = 3, random_state=1)\n",
    "rf_fitted_best = rf_cls_best.fit(x_train_best, y_train_best)\n",
    "print(rf_fitted_best.score(x_dev_best, y_dev_best.astype(int)))"
   ]
  },
  {
   "cell_type": "markdown",
   "metadata": {
    "id": "eoNZSOca9VN7"
   },
   "source": [
    "Fitting a logistic regression model for all players using a standard scaler"
   ]
  },
  {
   "cell_type": "code",
   "execution_count": 20,
   "metadata": {
    "colab": {
     "base_uri": "https://localhost:8080/"
    },
    "id": "BoCIK4tDpfo0",
    "outputId": "7ea9f55e-69f1-48c7-f140-b17af380583e"
   },
   "outputs": [
    {
     "name": "stdout",
     "output_type": "stream",
     "text": [
      "0.5555555555555556\n"
     ]
    }
   ],
   "source": [
    "chosen_scaler = StandardScaler\n",
    "logistic_regression = make_pipeline(chosen_scaler(), LogisticRegression(random_state=1, max_iter=1000))\n",
    "lr_fitted = logistic_regression.fit(x_train, y_train)\n",
    "print(lr_fitted.score(x_dev, y_dev.astype(int)))"
   ]
  },
  {
   "cell_type": "markdown",
   "metadata": {
    "id": "oztIiFaI9aQY"
   },
   "source": [
    "Fitting a logistic regression model for our \"best\" players using a standard scaler"
   ]
  },
  {
   "cell_type": "code",
   "execution_count": 21,
   "metadata": {
    "colab": {
     "base_uri": "https://localhost:8080/"
    },
    "id": "nyqlaWNqKLJt",
    "outputId": "eeae4f6e-f8e2-4faf-d926-205a6e979783"
   },
   "outputs": [
    {
     "name": "stdout",
     "output_type": "stream",
     "text": [
      "0.6111111111111112\n"
     ]
    }
   ],
   "source": [
    "chosen_scaler = StandardScaler\n",
    "logistic_regression_best = make_pipeline(chosen_scaler(), LogisticRegression(random_state=1, max_iter=1000))\n",
    "lr_fitted_best = logistic_regression_best.fit(x_train_best, y_train_best)\n",
    "print(lr_fitted_best.score(x_dev_best, y_dev_best.astype(int)))"
   ]
  },
  {
   "cell_type": "markdown",
   "metadata": {
    "id": "Rj1AQx0k9HcB"
   },
   "source": [
    "Below is the plot of all of the final features included in the models. From this plot, we can see that we do not have many correlation issues to concerned about since most of the quadrants are of darkers colors, indicating less correlation. There are a few that are a lighter orange, avg_2p_perc (average 2 point percentage) and avg_fta (average free throw attempts), but this makes sense because more free throw attempts leads to more 2 pointers made."
   ]
  },
  {
   "cell_type": "code",
   "execution_count": 22,
   "metadata": {
    "colab": {
     "base_uri": "https://localhost:8080/",
     "height": 363
    },
    "id": "7AIpXJDN9Jgu",
    "outputId": "228d2474-669b-4681-c42b-f1613dc7d024"
   },
   "outputs": [
    {
     "data": {
      "image/png": "[encoded data removed]",
      "text/plain": [
       "<Figure size 432x288 with 2 Axes>"
      ]
     },
     "metadata": {
      "needs_background": "light"
     },
     "output_type": "display_data"
    }
   ],
   "source": [
    "corr = x_train.corr()\n",
    "heatmap = sns.heatmap(corr, xticklabels=True, yticklabels=True)\n",
    "plt.title(\"Predictor Correlation Plot\")\n",
    "plt.show()"
   ]
  },
  {
   "cell_type": "markdown",
   "metadata": {
    "id": "zv1fk2MT9evp"
   },
   "source": [
    "Testing the decision tree model for all players on our actual testing data:"
   ]
  },
  {
   "cell_type": "code",
   "execution_count": 23,
   "metadata": {
    "colab": {
     "base_uri": "https://localhost:8080/"
    },
    "id": "1XlGcIoG9opY",
    "outputId": "aa617cd2-e675-4072-a2e5-3ad633ae2dfb"
   },
   "outputs": [
    {
     "name": "stdout",
     "output_type": "stream",
     "text": [
      "0.8888888888888888\n"
     ]
    }
   ],
   "source": [
    "clf_test = DecisionTreeClassifier(random_state=1)\n",
    "fitted_test = clf_test.fit(x_train, y_train)\n",
    "print(fitted_test.score(x_test, y_test.astype(int)))"
   ]
  },
  {
   "cell_type": "markdown",
   "metadata": {
    "id": "clAfHLshFPiT"
   },
   "source": [
    "Testing the random forest model for all players on our actual testing data:"
   ]
  },
  {
   "cell_type": "code",
   "execution_count": 24,
   "metadata": {
    "colab": {
     "base_uri": "https://localhost:8080/"
    },
    "id": "CzoGqdLt98_A",
    "outputId": "0aa48e09-c494-4dd2-a00b-1503698c645f"
   },
   "outputs": [
    {
     "name": "stdout",
     "output_type": "stream",
     "text": [
      "0.8888888888888888\n"
     ]
    }
   ],
   "source": [
    "rf_cls_test = RandomForestClassifier(n_estimators = 15, max_depth = 3, random_state=1)\n",
    "rf_fitted_test = rf_cls_test.fit(x_train, y_train)\n",
    "print(rf_fitted_test.score(x_test, y_test.astype(int)))"
   ]
  },
  {
   "cell_type": "markdown",
   "metadata": {
    "id": "9vooZq2BfGIe"
   },
   "source": [
    "##Discussion:"
   ]
  },
  {
   "cell_type": "markdown",
   "metadata": {
    "id": "erRsWX0DfI8B"
   },
   "source": [
    "\n",
    "> To analyze our results, we investigated the feature importances of both the decision tree and random forest since they performed equally well on the development data with all players. To accomplish this, we plotted feature importance for the random forest model and generated a plot of the actual decision tree. From the bar graph of the random forest feature importances, we can see that average 3 point percentage had the highest feature importance at 0.2, followed by average blocks per game and maximum assists per game. Looking at the decision tree visualization, we determine that average 3 point percentage is the most important feature in this model as well since decision trees work based on splitting data by highest entropy (or information gain). Therefore, features at the top of the tree are more important than those at the bottom. Although the most important feature of the tree is the same as in the random forest model, the second most important feature is average points per game, followed by average free throw percentage, neither of which are in the top 3 features of the random forest model. Finally, we can conclude that regardless of which of the two models is chosen, average 3 point percentage is the most influential feature in predicting whether or not a team will make it to the semi-finals.\n",
    "\n"
   ]
  },
  {
   "cell_type": "markdown",
   "metadata": {
    "id": "o2x76UZcmpIE"
   },
   "source": [
    "Feature importance bar graph for random forest"
   ]
  },
  {
   "cell_type": "code",
   "execution_count": 25,
   "metadata": {
    "colab": {
     "base_uri": "https://localhost:8080/",
     "height": 295
    },
    "id": "sVnkbniMmoag",
    "outputId": "1e80136a-b229-4678-e51f-fe2fd619a0f8"
   },
   "outputs": [
    {
     "data": {
      "image/png": "[encoded data removed]",
      "text/plain": [
       "<Figure size 432x288 with 1 Axes>"
      ]
     },
     "metadata": {
      "needs_background": "light"
     },
     "output_type": "display_data"
    }
   ],
   "source": [
    "importances = rf_cls_test.feature_importances_\n",
    "indices = np.argsort(importances)\n",
    "colors=[\"#f54281\", \"#fce1f6\", \"#f5bfd0\", \"#fc79a3\", \"#d943b6\", \"#d943b6\", \"#f29495\", \"#e0afe0\", \"#f5e9ed\",\"#572346\", \"#dfb0f5\", \"#f48cff\", \"#ba144c\", \"#fa5089\", \"#ff8c9d\", \"#f50555\"]\n",
    "\n",
    "fig, ax = plt.subplots()\n",
    "ax.barh(range(len(importances)), importances[indices], color=colors)\n",
    "ax.set_yticks(range(len(importances)))\n",
    "ax.set_yticklabels(np.array(x_test.columns)[indices])\n",
    "plt.title(\"Random Forest Feature Importance (All Players)\")\n",
    "plt.xlabel(\"Feature Importance\")\n",
    "plt.show()"
   ]
  },
  {
   "cell_type": "markdown",
   "metadata": {
    "id": "CIDHcUVrmuT_"
   },
   "source": [
    "Visualization of decision tree"
   ]
  },
  {
   "cell_type": "code",
   "execution_count": 26,
   "metadata": {
    "colab": {
     "base_uri": "https://localhost:8080/",
     "height": 591
    },
    "id": "WfwfWsJDmw4f",
    "outputId": "44339941-3d6f-468d-9384-5ac34127a333"
   },
   "outputs": [
    {
     "data": {
      "image/png": "[encoded data removed]",
      "text/plain": [
       "<Figure size 720x720 with 1 Axes>"
      ]
     },
     "metadata": {
      "needs_background": "light"
     },
     "output_type": "display_data"
    }
   ],
   "source": [
    "plt.figure(figsize=(10,10))\n",
    "tree.plot_tree(clf_test, feature_names = x_test.columns, filled=True)\n",
    "plt.title(\"Predicting NBA Final Four Decision Tree (All Players)\")\n",
    "plt.show()"
   ]
  },
  {
   "cell_type": "markdown",
   "metadata": {
    "id": "fVUeB_mSm7SF"
   },
   "source": [
    "> In our research comparing our model to other existing models we found that average 3 point percentage was not a common feature used in models. Most models used true shooting percentage, but with our heat map we found that to be strongly correlated with 3 point average. The formula for true shooting percentage takes into account three pointers, but in our case wasn’t as good of a feature as 3 pointers. The reason other models may not include it is the emphasis on 3 pointers is more of a  recent phenomenon in basketball. Our model did include many more typical features like blocks, steals, and 2 pointers. In our tuning of the model not all of our features were average, but minimums and maximums as well (Houde, 2021). One thing we could also work on to improve is creating a new calculated field relating to true shooting percentage, but with a higher emphasis on 3 pointers.\n",
    "\n",
    "> For people trying to create an entire bracket our model would prove more useful than traditional game by game models. The best models for game by game have 74.1% accuracy and the average at 62%-67% accuracy (Wiener, 2021). Though our model is hard to compare with game by game models, in the playoffs for predicting a bracket our model would likely outperform.\n"
   ]
  },
  {
   "cell_type": "markdown",
   "metadata": {
    "id": "gXpGEBt_fKQU"
   },
   "source": [
    "##Conclusion:"
   ]
  },
  {
   "cell_type": "markdown",
   "metadata": {
    "id": "5q_7VJ_xMUoP"
   },
   "source": [
    "> In the world of sports analytics it is becoming more and more important, from drafting players, to scouting players, and even sports bettors looking to quickly make a buck. For bettors looking to create a bracket for the finals, our model may be very useful, for those trying to predict games, not so much. However, this model could be used as a general tool for coaches to adapt their programs and even determine what skills their team could improve on. With an accuracy of 88.88%, our model is off to a great start, but through some more layers, we believe our model could potentially outperform other existing models for individual games.\n",
    "\n"
   ]
  },
  {
   "cell_type": "markdown",
   "metadata": {
    "id": "VOMy_Yy7MYsZ"
   },
   "source": [
    "##References:"
   ]
  },
  {
   "cell_type": "markdown",
   "metadata": {
    "id": "MrmhhWj8Maxp"
   },
   "source": [
    "Houde, M. (2021, May). Predicting the outcome of NBA games. https://digitalcommons.bryant.edu/cgi/viewcontent.cgi?article=1000&context=honors_data_science. Retrieved December 5, 2022, from https://digitalcommons.bryant.edu/cgi/viewcontent.cgi?article=1000&context=honors_data_science\n",
    "NBA Player Stats Index. (n.d.). NBAstuffer. https://www.nbastuffer.com/player-stats/\n",
    "Staff, S. I. (2022, October 18). NBA Finals predictions: Expert picks for the 2022–23 season. Sports Illustrated. Retrieved November 15, 2022, from https://www.si.com/nba/2022/10/18/nba-finals-predictions-expert-picks-clippers-bucks-warriors-nuggets \n",
    "Weiner, J. (2022, July 15). Predicting the outcome of NBA games with Machine Learning. Medium. Retrieved December 2, 2022, from https://towardsdatascience.com/predicting-the-outcome-of-nba-games-with-machine-learning-a810bb768f20 \n"
   ]
  }
 ],
 "metadata": {
  "colab": {
   "provenance": []
  },
  "kernelspec": {
   "display_name": "Python 3",
   "language": "python",
   "name": "python3"
  },
  "language_info": {
   "codemirror_mode": {
    "name": "ipython",
    "version": 3
   },
   "file_extension": ".py",
   "mimetype": "text/x-python",
   "name": "python",
   "nbconvert_exporter": "python",
   "pygments_lexer": "ipython3",
   "version": "3.8.8"
  }
 },
 "nbformat": 4,
 "nbformat_minor": 1
}
